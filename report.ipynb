{
 "cells": [
  {
   "cell_type": "markdown",
   "id": "f5cb4682",
   "metadata": {},
   "source": [
    "For part 1:\n",
    "# • How does the length of the hash correspond to the input string?\n",
    "# • Are there any visible correlations between the hash and the input string?\n",
    "# • What are the issues related to the cryptographic weakness of MD5?\n",
    "\n",
    "My answers:\n",
    "\n",
    "1. no matter the length of the input, the output hash length remains the same at 32\n",
    "2. not that i can see other thanthe fact that it is only using the first few letters of the alphabet ? like a,b,c,d,e,f\n",
    "3. MD5 is broken: attackers can create collisions and exploit length-extension, so it fails as an integrity check or signature.\n",
    "Its speed also makes brute-force and rainbow-table attacks trivial—use SHA-2/3 or a slow KDF instead.\n"
   ]
  },
  {
   "cell_type": "markdown",
   "id": "6bdbc954",
   "metadata": {},
   "source": [
    "Part 2:\n",
    "Using ther brute for attack, i put the hashes into an array and i then used the hint of 5 character lenth to to brute force and check against them\n",
    "\n",
    "• How much time did you take in total? [18.85 seconds]\n",
    "• How much time does it take to crack each string, on average? [1.29 seconds on avg]\n",
    "• Is it possible to amortize (gradually write off the initial cost of) the brute\n",
    "forcing attempts?\n",
    "\n",
    "yes, instead of having do keep creating the and hash functions for all the possibilities of the words ecah time i run the function, i can just do it once and put that into a set or a list so i can just lookup those values there, i pay the cost greatly once and can then reap the rewards after"
   ]
  },
  {
   "cell_type": "code",
   "execution_count": 5,
   "id": "b47d9d59",
   "metadata": {},
   "outputs": [
    {
     "name": "stdout",
     "output_type": "stream",
     "text": [
      "found aseas in 0.49 seconds (total 0.49s)\n",
      "found cance in 1.47 seconds (total 1.96s)\n",
      "found di5gv in 1.20 seconds (total 3.16s)\n",
      "found dsmto in 0.25 seconds (total 3.41s)\n",
      "found egunb in 0.65 seconds (total 4.06s)\n",
      "found hed4e in 2.84 seconds (total 6.90s)\n",
      "found lou0g in 4.26 seconds (total 11.17s)\n",
      "found mlhdi in 0.91 seconds (total 12.08s)\n",
      "found nized in 0.94 seconds (total 13.02s)\n",
      "found ofror in 0.90 seconds (total 13.92s)\n",
      "found opmen in 0.27 seconds (total 14.19s)\n",
      "found owso9 in 0.20 seconds (total 14.39s)\n",
      "found sso55 in 3.84 seconds (total 18.23s)\n",
      "found tpoin in 0.91 seconds (total 19.14s)\n",
      "found tthel in 0.11 seconds (total 19.25s)\n",
      "found all i think please check\n",
      "Time taken overall: 19.25 seconds\n",
      "1.2832767963409424\n"
     ]
    }
   ],
   "source": [
    "!python3 ex2.py"
   ]
  },
  {
   "cell_type": "markdown",
   "id": "32dd9a18",
   "metadata": {},
   "source": [
    "Here is the output in the file"
   ]
  },
  {
   "cell_type": "code",
   "execution_count": 2,
   "id": "86cd89c9",
   "metadata": {},
   "outputs": [
    {
     "name": "stdout",
     "output_type": "stream",
     "text": [
      "aseas\n",
      "cance\n",
      "di5gv\n",
      "dsmto\n",
      "egunb\n",
      "hed4e\n",
      "lou0g\n",
      "mlhdi\n",
      "nized\n",
      "ofror\n",
      "opmen\n",
      "owso9\n",
      "sso55\n",
      "tpoin\n",
      "tthel\n"
     ]
    }
   ],
   "source": [
    "!cat ex2_hash.txt"
   ]
  },
  {
   "cell_type": "markdown",
   "id": "8afe1493",
   "metadata": {},
   "source": [
    "Part 3 : SALT\n",
    "\n",
    "What are the observed differences between your ease of cracking the salted vs\n",
    "the unsalted plaintexts?\n",
    "\n",
    "- IT WAS FASTER AND EASER FOR THE SECOND ONE ? \n",
    "\n",
    "\n",
    "• Report the difference in time taken to crack the salted and the unsalted hash\n",
    "values.\n",
    "\n",
    "- it was 15.40 seconds overall for the salted one and for the non salted it was 19.25 seconds\n",
    "\n",
    "• Explain any differences between salted and un-salted crack strategies.\n",
    "\n",
    "- I pre-created my salted hashes file and loaded those values into a set at the start. Then in the brute-force loop I simply:\n",
    "\n",
    "Generate a candidate (5-char core + salt)\n",
    "\n",
    "MD5 it\n",
    "\n",
    "Do a quick if digest in targets: check\n",
    "\n",
    "Because targets is a set, each check is a single constant-time lookup instead of scanning through a list (or appending every time). I still loop over all 36⁵ candidates, but by removing that per-guess list scan, each iteration does far less extra work—which is why the second run feels so much faster."
   ]
  },
  {
   "cell_type": "code",
   "execution_count": 6,
   "id": "839cda37",
   "metadata": {},
   "outputs": [
    {
     "name": "stdout",
     "output_type": "stream",
     "text": [
      "Using salt = 'j' to crack 15 hashes…\n",
      "Found: aseasj -> 5c7c8456d6ae041fd14f46230ab454b1 in 0.41s (total 0.41s) (1/15)\n",
      "Found: cancej -> f539ed6f2ec65a31faa7b16035392f63 in 1.19s (total 1.59s) (2/15)\n",
      "Found: di5gvj -> 0c006ada8fc0f5f131083007aa4e29e2 in 0.98s (total 2.57s) (3/15)\n",
      "Found: dsmtoj -> ff15879bf55aa31793736fd6d37b3ee9 in 0.21s (total 2.78s) (4/15)\n",
      "Found: egunbj -> 9a9c83022838c0ff2f896593bf66bc98 in 0.53s (total 3.31s) (5/15)\n",
      "Found: hed4ej -> b8858eb9b1c4cb2c2fc2728d5a8ac84d in 2.30s (total 5.61s) (6/15)\n",
      "Found: lou0gj -> 9692c6314554c514ad4aa78856dde2fb in 3.32s (total 8.93s) (7/15)\n",
      "Found: mlhdij -> 1a54bf61d0c082e9e76fd4202c56c79a in 0.70s (total 9.64s) (8/15)\n",
      "Found: nizedj -> 30e7a3d02f8bdf8bd8edf858d1932ba3 in 0.73s (total 10.36s) (9/15)\n",
      "Found: ofrorj -> 8866b6ed857eb5da3be75bf4e3271201 in 0.72s (total 11.08s) (10/15)\n",
      "Found: opmenj -> 080ee36f9ae4aa499a8ce7f8d7276431 in 0.22s (total 11.30s) (11/15)\n",
      "Found: owso9j -> bebf7f4eaa40ae6789934c8071889bb2 in 0.16s (total 11.46s) (12/15)\n",
      "Found: sso55j -> 651712912ab1b01004d8deea8de19d48 in 3.13s (total 14.58s) (13/15)\n",
      "Found: tpoinj -> a6b2ff9b34611432a2b735ba8d36c64e in 0.74s (total 15.32s) (14/15)\n",
      "Found: tthelj -> efd1428513b322639bee2b3a8c577bf8 in 0.08s (total 15.40s) (15/15)\n",
      "\n",
      "All cracked in 15.40 seconds\n"
     ]
    }
   ],
   "source": [
    "!python3 ex3.py"
   ]
  },
  {
   "cell_type": "markdown",
   "id": "b0be1748",
   "metadata": {},
   "source": []
  }
 ],
 "metadata": {
  "kernelspec": {
   "display_name": "Python 3.10 (hotel-no-show)",
   "language": "python",
   "name": "hotel-py310"
  },
  "language_info": {
   "codemirror_mode": {
    "name": "ipython",
    "version": 3
   },
   "file_extension": ".py",
   "mimetype": "text/x-python",
   "name": "python",
   "nbconvert_exporter": "python",
   "pygments_lexer": "ipython3",
   "version": "3.12.2"
  }
 },
 "nbformat": 4,
 "nbformat_minor": 5
}
